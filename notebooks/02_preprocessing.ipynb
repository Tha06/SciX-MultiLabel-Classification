{
 "cells": [
  {
   "cell_type": "markdown",
   "id": "f8b9c0e3",
   "metadata": {},
   "source": [
    "# Data Preprocessing Notebook\n",
    "# This notebook handles the cleaning and preparation of the SciX dataset for modeling."
   ]
  },
  {
   "cell_type": "code",
   "execution_count": null,
   "id": "400469c5",
   "metadata": {},
   "outputs": [],
   "source": [
    "\"\"\"\n",
    "Data Preprocessing Notebook\n",
    "-------------------------\n",
    "\n",
    "This notebook handles text cleaning and preparation:\n",
    "1. Text normalization\n",
    "2. Scientific notation handling\n",
    "3. Label encoding\n",
    "4. Data validation\n",
    "\n",
    "Key Steps:\n",
    "- Load and validate raw data\n",
    "- Apply ScientificTextPreprocessor\n",
    "- Save processed datasets\n",
    "\"\"\"\n",
    "\n",
    "# Import libraries\n",
    "import pandas as pd\n",
    "from datasets import load_dataset\n",
    "import sys\n",
    "import os\n",
    "sys.path.append(os.path.abspath('..'))\n",
    "from src.data_preprocessing import ScientificTextPreprocessor\n",
    "import yaml\n",
    "import matplotlib.pyplot as plt"
   ]
  },
  {
   "cell_type": "code",
   "execution_count": 2,
   "id": "7053020a",
   "metadata": {},
   "outputs": [],
   "source": [
    "# Load data\n",
    "dataset = load_dataset(\"adsabs/SciX_UAT_keywords\")\n",
    "train_df = pd.DataFrame(dataset['train'])\n",
    "val_df = pd.DataFrame(dataset['val'])"
   ]
  },
  {
   "cell_type": "code",
   "execution_count": 3,
   "id": "f44620f7",
   "metadata": {},
   "outputs": [
    {
     "name": "stderr",
     "output_type": "stream",
     "text": [
      "[nltk_data] Downloading package stopwords to\n",
      "[nltk_data]     C:\\Users\\adrie\\AppData\\Roaming\\nltk_data...\n",
      "[nltk_data]   Package stopwords is already up-to-date!\n",
      "[nltk_data] Downloading package wordnet to\n",
      "[nltk_data]     C:\\Users\\adrie\\AppData\\Roaming\\nltk_data...\n",
      "[nltk_data]   Package wordnet is already up-to-date!\n"
     ]
    }
   ],
   "source": [
    "# Initialize preprocessor\n",
    "preprocessor = ScientificTextPreprocessor()"
   ]
  },
  {
   "cell_type": "code",
   "execution_count": 4,
   "id": "e9fcf3fb",
   "metadata": {},
   "outputs": [],
   "source": [
    "# Load preprocessing config\n",
    "with open('../configs/preprocessing.yaml', 'r') as f:\n",
    "    preprocess_config = yaml.safe_load(f)"
   ]
  },
  {
   "cell_type": "code",
   "execution_count": 5,
   "id": "b47e51ff",
   "metadata": {},
   "outputs": [
    {
     "name": "stdout",
     "output_type": "stream",
     "text": [
      "Original text:\n",
      " Pyroxenes ((Ca, Mg, Fe, Mn)<SUB>2</SUB>Si<SUB>2</SUB>O<SUB>6</SUB>) belong to the most abundant rock forming minerals that make up the surface of rocky planets and moons. Therefore, sputtering of pyroxenes by solar wind ions has to be considered as a very important process for modifying the surface of planetary bodies. This is increased due to potential sputtering by multiply charged ions; to quantify this effect, sputtering of wollastonite (CaSiO<SUB>3</SUB>) by He<SUP>2+</SUP> ions was investigated. Thin films of CaSiO<SUB>3</SUB> deposited on a quartz crystal microbalance were irradiated, allowing precise, in situ, real time sputtering yield measurements. Experimental results were compared with SDTrimSP simulations, which were improved by adapting the used input parameters. On freshly prepared surfaces, He<SUP>2+</SUP> ions show a significant increase in sputtering, as compared to equally fast He<SUP>+</SUP> ions. However, the yield decreases exponentially with fluence, reaching a lower steady state after sputtering of the first few monolayers. Experiments using Ar<SUP>8+</SUP> ions show a similar behavior, which is qualitatively explained by a preferential depletion of surface oxygen due to potential sputtering. A corresponding quantitative model is applied, and the observed potential sputtering behaviors of both He and Ar are reproduced very well. The results of these calculations support the assumption that mainly O atoms are affected by potential sputtering. Based on our findings, we discuss the importance of potential sputtering for the solar wind eroding the lunar surface. Estimated concentration changes and sputtering yields are both in line with previous modeling for other materials, allowing a consistent perspective on the effects of solar wind potential sputtering.\n",
      "\n",
      "Cleaned text:\n",
      " pyroxene belong abundant rock form mineral make surface rocky planet moon therefore sputter pyroxene solar wind ion considered important process modify surface planetary body increased due potential sputter multiply charged ion quantify effect sputter wollastonite casio ion investigated thin film casio deposited quartz crystal microbalance irradiated allow precise situ real time sputter yield measurement experimental result compared sdtrimsp simulation improved adapt used input parameter freshly prepared surface ion show significant increase sputter compared equally fast ion however yield decrease exponentially fluence reach lower steady state sputter first monolayers experiment use ion show similar behavior qualitatively explained preferential depletion surface oxygen due potential sputter correspond quantitative model applied observed potential sputter behavior reproduced well result calculation support assumption mainly atom affected potential sputter based finding discus importance potential sputter solar wind erode lunar surface estimated concentration change sputter yield line previous model material allow consistent perspective effect solar wind potential sputter\n"
     ]
    }
   ],
   "source": [
    "# Example before/after cleaning\n",
    "sample_text = train_df['abstract'].iloc[0]\n",
    "print(\"Original text:\\n\", sample_text)\n",
    "print(\"\\nCleaned text:\\n\", preprocessor.clean_text(sample_text))"
   ]
  },
  {
   "cell_type": "code",
   "execution_count": 6,
   "id": "d313222d",
   "metadata": {},
   "outputs": [],
   "source": [
    "# Process full dataset\n",
    "train_processed = preprocessor.preprocess_data(train_df)\n",
    "val_processed = preprocessor.preprocess_data(val_df)"
   ]
  },
  {
   "cell_type": "code",
   "execution_count": 7,
   "id": "713994a6",
   "metadata": {},
   "outputs": [],
   "source": [
    "# Save processed data\n",
    "train_processed.to_parquet('../data/processed/train_processed.parquet')\n",
    "val_processed.to_parquet('../data/processed/val_processed.parquet')"
   ]
  },
  {
   "cell_type": "code",
   "execution_count": 8,
   "id": "d5ac0305",
   "metadata": {},
   "outputs": [
    {
     "data": {
      "image/png": "[encoded data removed]",
      "text/plain": [
       "<Figure size 640x480 with 1 Axes>"
      ]
     },
     "metadata": {},
     "output_type": "display_data"
    }
   ],
   "source": [
    "# Visualize text length distribution after cleaning\n",
    "train_processed['cleaned_length'] = train_processed['cleaned_text'].apply(len)\n",
    "plt.hist(train_processed['cleaned_length'], bins=50)\n",
    "plt.title('Distribution of Text Lengths After Cleaning')\n",
    "plt.xlabel('Character Count')\n",
    "plt.ylabel('Frequency')\n",
    "plt.show()"
   ]
  },
  {
   "cell_type": "code",
   "execution_count": 9,
   "id": "96a01f1a",
   "metadata": {},
   "outputs": [
    {
     "data": {
      "text/plain": [
       "[('star', 23402),\n",
       " ('mass', 18649),\n",
       " ('model', 18223),\n",
       " ('galaxy', 17902),\n",
       " ('use', 13292),\n",
       " ('observation', 12900),\n",
       " ('data', 11881),\n",
       " ('field', 10903),\n",
       " ('emission', 10880),\n",
       " ('ray', 10870),\n",
       " ('high', 10452),\n",
       " ('find', 10222),\n",
       " ('solar', 10172),\n",
       " ('disk', 10060),\n",
       " ('result', 9823),\n",
       " ('time', 9754),\n",
       " ('stellar', 9472),\n",
       " ('magnetic', 9346),\n",
       " ('line', 9266),\n",
       " ('show', 8435)]"
      ]
     },
     "execution_count": 9,
     "metadata": {},
     "output_type": "execute_result"
    }
   ],
   "source": [
    "# Check most common words\n",
    "from collections import Counter\n",
    "all_words = ' '.join(train_processed['cleaned_text']).split()\n",
    "word_counts = Counter(all_words)\n",
    "word_counts.most_common(20)"
   ]
  }
 ],
 "metadata": {
  "kernelspec": {
   "display_name": "Python 3",
   "language": "python",
   "name": "python3"
  },
  "language_info": {
   "codemirror_mode": {
    "name": "ipython",
    "version": 3
   },
   "file_extension": ".py",
   "mimetype": "text/x-python",
   "name": "python",
   "nbconvert_exporter": "python",
   "pygments_lexer": "ipython3",
   "version": "3.11.9"
  }
 },
 "nbformat": 4,
 "nbformat_minor": 5
}
